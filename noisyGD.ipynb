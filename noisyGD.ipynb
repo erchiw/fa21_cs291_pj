{
 "cells": [
  {
   "cell_type": "code",
   "execution_count": 83,
   "id": "7234b7a2",
   "metadata": {},
   "outputs": [
    {
     "data": {
      "text/plain": [
       "<torch._C.Generator at 0x7fd0b6c34cb0>"
      ]
     },
     "execution_count": 83,
     "metadata": {},
     "output_type": "execute_result"
    }
   ],
   "source": [
    "import numpy as np\n",
    "#from common import *\n",
    "#from noisyGD import *\n",
    "from autodp.calibrator_zoo import eps_delta_calibrator\n",
    "from autodp.autodp_core import Mechanism\n",
    "from autodp.mechanism_zoo import GaussianMechanism\n",
    "from autodp.transformer_zoo import ComposeGaussian\n",
    "\n",
    "torch.manual_seed(0)"
   ]
  },
  {
   "cell_type": "code",
   "execution_count": 84,
   "id": "a274e763",
   "metadata": {},
   "outputs": [],
   "source": [
    "#common\n",
    "def add_ones(data):\n",
    "    # add ones column to raw data X\n",
    "    # X should be n x d form and the return is in n x (d+1) form\n",
    "    ones = np.repeat(1, data.shape[0])\n",
    "    add_ones_data = np.insert(data, data.shape[1], ones, axis=1)\n",
    "    return add_ones_data\n",
    "\n",
    "\n",
    "def one_hot_encoding(y, category=4):\n",
    "    # y is in {0,1,2,3}, do one_hot_encoding\n",
    "    # return a matrix in 4 x n form\n",
    "    enc = np.zeros([category, y.shape[0]])\n",
    "    for j in range(y.shape[0]):\n",
    "        enc[y[j],j]=1\n",
    "    return enc\n",
    "\n",
    "\n",
    "def softmax_activation(z):\n",
    "    exponentials = torch.exp(z)\n",
    "    exponentials_row_sums = torch.sum(exponentials, axis=1).unsqueeze(1)\n",
    "    return exponentials / exponentials_row_sums\n",
    "\n",
    "\n",
    "def cross_entropy_loss(y_one_hot, activations):\n",
    "    loss = -torch.mean(torch.sum(y_one_hot * torch.log(activations), axis=1))    \n",
    "    return loss\n",
    "\n",
    "\n",
    "def add_gauss_noise(sigma, dim1, dim2):\n",
    "    gauss_noise = torch.normal(mean=0, std=sigma, size=(dim1, dim2))\n",
    "    return gauss_noise"
   ]
  },
  {
   "cell_type": "code",
   "execution_count": 85,
   "id": "7baab51e",
   "metadata": {},
   "outputs": [],
   "source": [
    "# noisyGD\n",
    "class NoisyGD_mech(Mechanism):\n",
    "    def __init__(self,sigma,coeff,name='NoisyGD'):\n",
    "        Mechanism.__init__(self)\n",
    "        self.name = name\n",
    "        self.params={'sigma':sigma,'coeff':coeff}\n",
    "        \n",
    "        # ----------- Implement noisy-GD here with \"GaussianMechanism\" and \"ComposeGaussian\" ----------------\n",
    "        gm = GaussianMechanism(sigma, name='Release_gradient')\n",
    "        compose = ComposeGaussian()\n",
    "        mech = compose([gm],[coeff])\n",
    "        # ------------- return a Mechanism object named 'mech' --------------------s\n",
    "        self.set_all_representation(mech)       \n",
    "\n",
    "        \n",
    "def cal_grad(w, X, y, A):\n",
    "    # calculate the full gradient\n",
    "    w_gradients = -torch.mm(X.transpose(0, 1), y - A)\n",
    "    \n",
    "    return w_gradients\n",
    "\n",
    "\n",
    "def clip_grad(w, threshod):\n",
    "    #clip gradient per example\n",
    "    clip = np.minimum(1., threshod/np.linalg.norm(w, 'fro'))\n",
    "    \n",
    "    return clip\n",
    "\n",
    "\n",
    "def theoretical_lr_choice(beta_L, f0_minus_fniter_bound, dim, sigma, niter):\n",
    "    # beta_L is the gradient lipschitz constant for the whole objective function\n",
    "    # sigma is the variance of the gradient noise in each coordinate  (notice that this is the noise multiplier * GS)\n",
    "    \n",
    "    return np.minimum(1/beta_L,np.sqrt(2*f0_minus_fniter_bound / (dim * sigma**2 *beta_L*niter)))\n",
    "\n",
    "\n",
    "def find_appropriate_niter(sigma, eps, delta):\n",
    "    # Use autodp calibrator for selecting 'niter'\n",
    "    NoisyGD_fix_sigma = lambda x:  NoisyGD_mech(sigma,x)\n",
    "    calibrate = eps_delta_calibrator()\n",
    "    mech = calibrate(NoisyGD_fix_sigma, eps, delta, [0,500000])\n",
    "    niter = int(np.floor(mech.params['coeff']))\n",
    "    \n",
    "    return niter\n",
    "\n",
    "\n",
    "def run_noisyGD(niter, learning_rate, clip_threshold, sigma, X, y, w, clip_or_not=False):\n",
    "    record_loss = []\n",
    "    dim1 = w.shape[0]\n",
    "    dim2 = w.shape[1]\n",
    "    for i in range(niter):\n",
    "        Z = torch.mm(X, w)\n",
    "        A = softmax_activation(Z)\n",
    "        loss = cross_entropy_loss(y, A)\n",
    "        record_loss.append(loss)\n",
    "        \n",
    "        w_gradients = cal_grad(w, X, y, A)\n",
    "        \n",
    "        if clip_or_not == False:\n",
    "            w -= learning_rate * (w_gradients + add_gauss_noise(sigma, dim1, dim2))\n",
    "        else:\n",
    "            w -= learning_rate * (w_gradients*clip_grad(w_gradients,clip_threshold) + add_gauss_noise(sigma, dim1, dim2))\n",
    "                \n",
    "    return w, record_loss \n",
    "    "
   ]
  },
  {
   "cell_type": "code",
   "execution_count": 86,
   "id": "1192de9a",
   "metadata": {},
   "outputs": [],
   "source": [
    "# Generate data.\n",
    "m = 20000\n",
    "n = 50\n",
    "np.random.seed(1)\n",
    "X_ori = np.random.randn(m, n)\n",
    "y_ori = np.array([1, 2, 2, 2, 1, 0, 3, 0, 2, 2, 1, 3, 3, 1, 0, 0, 0, 1, 0, 1])\n",
    "y_ori = np.repeat(y_ori, m/20)\n",
    "X1 = add_ones(X_ori)\n",
    "y1 = np.transpose(one_hot_encoding(y_ori))"
   ]
  },
  {
   "cell_type": "markdown",
   "id": "968ff6e4",
   "metadata": {},
   "source": [
    "# Pytorch - NoisyGD"
   ]
  },
  {
   "cell_type": "code",
   "execution_count": 133,
   "id": "06ca6aa5",
   "metadata": {},
   "outputs": [
    {
     "name": "stdout",
     "output_type": "stream",
     "text": [
      "3301\n"
     ]
    }
   ],
   "source": [
    "import torch \n",
    "from torch import tensor\n",
    "\n",
    "\n",
    "X_numpy = X1\n",
    "y_numpy = y1\n",
    "\n",
    "X = torch.tensor(X_numpy, dtype=torch.float32)\n",
    "y = torch.tensor(y_numpy, dtype=torch.float32)\n",
    "w = torch.rand((n+1, 4), requires_grad=False)\n",
    "\n",
    "beta_L = m/2\n",
    "f0_minus_fniter_bound  = m*np.log(2) # ADD YOUR CODE HERE\n",
    "GS = 1\n",
    "sigma = 1000\n",
    "eps = 0.1\n",
    "delta = 0.001\n",
    "clip_threshold = 2000\n",
    "\n",
    "n_iterations = find_appropriate_niter(sigma, eps, delta)\n",
    "learning_rate = theoretical_lr_choice(beta_L,f0_minus_fniter_bound,n,sigma*GS,n_iterations)\n",
    "\n",
    "print(n_iterations)"
   ]
  },
  {
   "cell_type": "code",
   "execution_count": 134,
   "id": "690cf833",
   "metadata": {
    "scrolled": true
   },
   "outputs": [],
   "source": [
    "#### begin training!\n",
    "a,b = run_noisyGD(niter=n_iterations, \n",
    "                  learning_rate=learning_rate, \n",
    "                  clip_threshold = clip_threshold, \n",
    "                  sigma=sigma, \n",
    "                  X=X, \n",
    "                  y=y, \n",
    "                  w=w,\n",
    "                 clip_or_not=True\n",
    "                 )"
   ]
  },
  {
   "cell_type": "code",
   "execution_count": 135,
   "id": "088db3f4",
   "metadata": {},
   "outputs": [
    {
     "data": {
      "image/png": "[encoded data removed]",
      "text/plain": [
       "<Figure size 576x360 with 1 Axes>"
      ]
     },
     "metadata": {
      "needs_background": "light"
     },
     "output_type": "display_data"
    }
   ],
   "source": [
    "import matplotlib.pyplot as plt\n",
    "#%matplotlib inline \n",
    "plt.figure(figsize=(8, 5))\n",
    "plt.plot(np.arange(n_iterations), b,'o-')\n",
    "plt.legend('noisyGD')\n",
    "plt.xlabel('niter')\n",
    "plt.ylabel('loss')\n",
    "plt.show()"
   ]
  },
  {
   "cell_type": "code",
   "execution_count": null,
   "id": "c62d8a94",
   "metadata": {},
   "outputs": [],
   "source": []
  }
 ],
 "metadata": {
  "kernelspec": {
   "display_name": "Python 3 (ipykernel)",
   "language": "python",
   "name": "python3"
  },
  "language_info": {
   "codemirror_mode": {
    "name": "ipython",
    "version": 3
   },
   "file_extension": ".py",
   "mimetype": "text/x-python",
   "name": "python",
   "nbconvert_exporter": "python",
   "pygments_lexer": "ipython3",
   "version": "3.8.10"
  }
 },
 "nbformat": 4,
 "nbformat_minor": 5
}
