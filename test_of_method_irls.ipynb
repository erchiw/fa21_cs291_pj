{
 "cells": [
  {
   "cell_type": "code",
   "execution_count": 1,
   "id": "abede575",
   "metadata": {},
   "outputs": [],
   "source": [
    "%load_ext autoreload\n",
    "%autoreload 2\n",
    "\n",
    "import pandas as pd\n",
    "import numpy as np\n",
    "\n",
    "import matplotlib.pyplot as plt\n",
    "import seaborn as sns\n",
    "\n",
    "from sklearn.metrics import roc_auc_score, roc_curve, classification_report\n",
    "from sklearn.linear_model import LogisticRegression\n",
    "from sklearn.datasets import load_iris"
   ]
  },
  {
   "cell_type": "code",
   "execution_count": 2,
   "id": "2f5bf2e2",
   "metadata": {},
   "outputs": [],
   "source": [
    "# some utilities\n",
    "### keep both training labels and ILI_type for y\n",
    "def get_ili_type(df, keep_filter, label_col = ('labels', 'ILI_type')):\n",
    "    ## get ILI training label and ILI type for y\n",
    "    y = df.loc[keep_filter ,label_col]\n",
    "    return y\n",
    "\n",
    "### impute na by 0\n",
    "### not ideal but should work for a start\n",
    "def impute_na(df, value):\n",
    "    return df.fillna(value)\n",
    "\n",
    "def impute_back(df):\n",
    "    return df.fillna(method= 'backfill', axis = 0)\n",
    "\n",
    "\n",
    "### poisson sampling\n",
    "def poisson_sampling(gamma, n, seed=1729):\n",
    "    randm = np.random.RandomState(seed)\n",
    "    flag = randm.binomial(1, gamma, n)\n",
    "    return flag\n",
    "\n",
    "\n",
    "import torch \n",
    "from torch import tensor\n",
    "\n",
    "from autodp.calibrator_zoo import eps_delta_calibrator\n",
    "from autodp.autodp_core import Mechanism\n",
    "from autodp.mechanism_zoo import GaussianMechanism\n",
    "from autodp.transformer_zoo import ComposeGaussian\n",
    "import matplotlib.pyplot as plt\n",
    "torch.manual_seed(0)\n",
    "\n",
    "#common\n",
    "def add_ones(data):\n",
    "    # add ones column to raw data X\n",
    "    # X should be n x d form and the return is in n x (d+1) form\n",
    "    ones = np.repeat(1, data.shape[0])\n",
    "    add_ones_data = np.insert(data, data.shape[1], ones, axis=1)\n",
    "    return add_ones_data\n",
    "\n",
    "\n",
    "def one_hot_encoding(y, category=4):\n",
    "    # y is in {0,1,2,3}, do one_hot_encoding\n",
    "    # return a matrix in 4 x n form\n",
    "    enc = np.zeros([category, y.shape[0]])\n",
    "    for j in range(y.shape[0]):\n",
    "        enc[y[j],j]=1\n",
    "    return enc\n",
    "\n",
    "\n",
    "def softmax_activation(z):\n",
    "    exponentials = torch.exp(z)\n",
    "    exponentials_row_sums = torch.sum(exponentials, axis=1).unsqueeze(1)\n",
    "    return exponentials / exponentials_row_sums\n",
    "\n",
    "\n",
    "def cross_entropy_loss(y_one_hot, activations):\n",
    "    loss = -torch.mean(torch.sum(y_one_hot * torch.log(activations), axis=1))    \n",
    "    return loss\n",
    "\n",
    "\n",
    "def add_gauss_noise(sigma, dim1, dim2):\n",
    "    gauss_noise = torch.normal(mean=0, std=sigma, size=(dim1, dim2))\n",
    "    return gauss_noise\n",
    "\n",
    "\n",
    "# noisyGD\n",
    "class NoisyGD_mech(Mechanism):\n",
    "    def __init__(self,sigma,coeff,name='NoisyGD'):\n",
    "        Mechanism.__init__(self)\n",
    "        self.name = name\n",
    "        self.params={'sigma':sigma,'coeff':coeff}\n",
    "        \n",
    "        # ----------- Implement noisy-GD here with \"GaussianMechanism\" and \"ComposeGaussian\" ----------------\n",
    "        gm = GaussianMechanism(sigma, name='Release_gradient')\n",
    "        compose = ComposeGaussian()\n",
    "        mech = compose([gm],[coeff])\n",
    "        # ------------- return a Mechanism object named 'mech' --------------------s\n",
    "        self.set_all_representation(mech)       \n",
    "\n",
    "        \n",
    "def cal_grad(w, X, y, A):\n",
    "    # calculate the full gradient\n",
    "    w_gradients = -torch.mm(X.transpose(0, 1), y - A)\n",
    "    \n",
    "    return w_gradients\n",
    "\n",
    "\n",
    "def clip_grad(w, threshod):\n",
    "    #clip gradient per example\n",
    "    clip = np.minimum(1., threshod/np.linalg.norm(w, 'fro'))\n",
    "    \n",
    "    return clip\n",
    "\n",
    "\n",
    "def theoretical_lr_choice(beta_L, f0_minus_fniter_bound, dim, sigma, niter):\n",
    "    # beta_L is the gradient lipschitz constant for the whole objective function\n",
    "    # sigma is the variance of the gradient noise in each coordinate  (notice that this is the noise multiplier * GS)\n",
    "    \n",
    "    return np.minimum(1/beta_L,np.sqrt(2*f0_minus_fniter_bound / (dim * sigma**2 *beta_L*niter)))\n",
    "\n",
    "\n",
    "def find_appropriate_niter(sigma, eps, delta):\n",
    "    # Use autodp calibrator for selecting 'niter'\n",
    "    NoisyGD_fix_sigma = lambda x:  NoisyGD_mech(sigma,x)\n",
    "    calibrate = eps_delta_calibrator()\n",
    "    mech = calibrate(NoisyGD_fix_sigma, eps, delta, [0,500000])\n",
    "    niter = int(np.floor(mech.params['coeff']))\n",
    "    \n",
    "    return niter\n",
    "\n",
    "\n",
    "def run_noisyGD(niter, learning_rate, clip_threshold, sigma, X, y, w, clip_or_not=False):\n",
    "    record_loss = []\n",
    "    dim1 = w.shape[0]\n",
    "    dim2 = w.shape[1]\n",
    "    for i in range(niter):\n",
    "        Z = torch.mm(X, w)\n",
    "        A = softmax_activation(Z)\n",
    "        loss = cross_entropy_loss(y, A)\n",
    "        record_loss.append(loss)\n",
    "        \n",
    "        w_gradients = cal_grad(w, X, y, A)\n",
    "        \n",
    "        if clip_or_not == False:\n",
    "            w -= learning_rate * (w_gradients + add_gauss_noise(sigma, dim1, dim2))\n",
    "        else:\n",
    "            w -= learning_rate * (w_gradients*clip_grad(w_gradients,clip_threshold) + add_gauss_noise(sigma, dim1, dim2))\n",
    "                \n",
    "    return w, record_loss \n",
    "    \n",
    "def logis_pred(X, w):\n",
    "    pred = softmax_activation(torch.mm(X,w))\n",
    "    return pred\n",
    "\n",
    "def arg_max_vec(y):\n",
    "    # convert to arg max by row\n",
    "    return np.argmax(np.array(y), axis=1)"
   ]
  },
  {
   "cell_type": "markdown",
   "id": "f1a3b941",
   "metadata": {},
   "source": [
    "# noisyGD clf"
   ]
  },
  {
   "cell_type": "code",
   "execution_count": 3,
   "id": "cddad571",
   "metadata": {},
   "outputs": [
    {
     "name": "stdout",
     "output_type": "stream",
     "text": [
      "3301\n"
     ]
    }
   ],
   "source": [
    "X_irls, y_irls = load_iris(return_X_y=True)\n",
    "y_irls = np.transpose(one_hot_encoding(y_irls, category=3))\n",
    "n_sample = 150\n",
    "n_class = 3\n",
    "n_feature = 4\n",
    "\n",
    "\n",
    "X = torch.tensor(X_irls, dtype=torch.float32)\n",
    "y = torch.tensor(y_irls, dtype=torch.float32)\n",
    "w = torch.rand((n_feature, n_class), requires_grad=False)\n",
    "\n",
    "\n",
    "beta_L = n_sample/2\n",
    "f0_minus_fniter_bound  = n_sample*np.log(2) # ADD YOUR CODE HERE\n",
    "GS = 1\n",
    "sigma = 1000\n",
    "eps = 0.1\n",
    "delta = 0.001\n",
    "clip_threshold = 2000\n",
    "\n",
    "n_iterations = find_appropriate_niter(sigma, eps, delta)\n",
    "learning_rate = theoretical_lr_choice(beta_L,f0_minus_fniter_bound,n_feature,sigma*GS,n_iterations)\n",
    "\n",
    "print(n_iterations)\n",
    "\n",
    "\n",
    "#### begin training!\n",
    "w_train, loss_train = run_noisyGD(niter=n_iterations, \n",
    "                  learning_rate=learning_rate, \n",
    "                  clip_threshold = clip_threshold, \n",
    "                  sigma=sigma, \n",
    "                  X=X, \n",
    "                  y=y, \n",
    "                  w=w,\n",
    "                 clip_or_not=True\n",
    "                 )"
   ]
  },
  {
   "cell_type": "code",
   "execution_count": 4,
   "id": "cfb500f2",
   "metadata": {},
   "outputs": [
    {
     "data": {
      "image/png": "[encoded data removed]",
      "text/plain": [
       "<Figure size 576x360 with 1 Axes>"
      ]
     },
     "metadata": {
      "needs_background": "light"
     },
     "output_type": "display_data"
    }
   ],
   "source": [
    "import matplotlib.pyplot as plt\n",
    "#%matplotlib inline \n",
    "plt.figure(figsize=(8, 5))\n",
    "plt.plot(np.arange(n_iterations), loss_train, marker=\".\")\n",
    "plt.legend('noisyGD')\n",
    "plt.xlabel('niter')\n",
    "plt.ylabel('loss')\n",
    "plt.show()"
   ]
  },
  {
   "cell_type": "code",
   "execution_count": 6,
   "id": "c9909546",
   "metadata": {},
   "outputs": [
    {
     "name": "stdout",
     "output_type": "stream",
     "text": [
      "              precision    recall  f1-score   support\n",
      "\n",
      "           0       0.96      1.00      0.98        50\n",
      "           1       0.93      0.74      0.82        50\n",
      "           2       0.81      0.94      0.87        50\n",
      "\n",
      "    accuracy                           0.89       150\n",
      "   macro avg       0.90      0.89      0.89       150\n",
      "weighted avg       0.90      0.89      0.89       150\n",
      "\n",
      "confusion matrix: [[50  0  0]\n",
      " [ 2 37 11]\n",
      " [ 0  3 47]]\n"
     ]
    }
   ],
   "source": [
    "from sklearn.metrics import roc_auc_score\n",
    "from sklearn.metrics import classification_report\n",
    "from sklearn.metrics import confusion_matrix\n",
    "\n",
    "y_pred = logis_pred(X, w_train)\n",
    "print(classification_report(arg_max_vec(y), arg_max_vec(y_pred)))\n",
    "\n",
    "cf = confusion_matrix(arg_max_vec(y), arg_max_vec(y_pred))#/np.array([6300,1050,1050,1050]).reshape(4,1)\n",
    "print('confusion matrix:', cf)"
   ]
  },
  {
   "cell_type": "markdown",
   "id": "cc2a2a5a",
   "metadata": {},
   "source": [
    "# logistic clf"
   ]
  },
  {
   "cell_type": "code",
   "execution_count": 13,
   "id": "594ca2ad",
   "metadata": {},
   "outputs": [
    {
     "name": "stdout",
     "output_type": "stream",
     "text": [
      "              precision    recall  f1-score   support\n",
      "\n",
      "           0       1.00      1.00      1.00        50\n",
      "           1       0.98      0.94      0.96        50\n",
      "           2       0.94      0.98      0.96        50\n",
      "\n",
      "    accuracy                           0.97       150\n",
      "   macro avg       0.97      0.97      0.97       150\n",
      "weighted avg       0.97      0.97      0.97       150\n",
      "\n"
     ]
    },
    {
     "name": "stderr",
     "output_type": "stream",
     "text": [
      "/home/vec/.local/lib/python3.8/site-packages/sklearn/linear_model/_logistic.py:814: ConvergenceWarning: lbfgs failed to converge (status=1):\n",
      "STOP: TOTAL NO. of ITERATIONS REACHED LIMIT.\n",
      "\n",
      "Increase the number of iterations (max_iter) or scale the data as shown in:\n",
      "    https://scikit-learn.org/stable/modules/preprocessing.html\n",
      "Please also refer to the documentation for alternative solver options:\n",
      "    https://scikit-learn.org/stable/modules/linear_model.html#logistic-regression\n",
      "  n_iter_i = _check_optimize_result(\n"
     ]
    },
    {
     "data": {
      "text/plain": [
       "0.9733333333333334"
      ]
     },
     "execution_count": 13,
     "metadata": {},
     "output_type": "execute_result"
    }
   ],
   "source": [
    "X, y = load_iris(return_X_y=True)\n",
    "clf = LogisticRegression().fit(X, y)\n",
    "y_pred = clf.predict(X)\n",
    "\n",
    "print(classification_report(y, y_pred))\n",
    "\n",
    "\n",
    "clf.predict_proba(X[:2, :])\n",
    "clf.score(X, y)"
   ]
  },
  {
   "cell_type": "code",
   "execution_count": 12,
   "id": "34d0c149",
   "metadata": {},
   "outputs": [
    {
     "data": {
      "text/plain": [
       "array([0, 0, 0, 0, 0, 0, 0, 0, 0, 0, 0, 0, 0, 0, 0, 0, 0, 0, 0, 0, 0, 0,\n",
       "       0, 0, 0, 0, 0, 0, 0, 0, 0, 0, 0, 0, 0, 0, 0, 0, 0, 0, 0, 0, 0, 0,\n",
       "       0, 0, 0, 0, 0, 0, 1, 1, 1, 1, 1, 1, 1, 1, 1, 1, 1, 1, 1, 1, 1, 1,\n",
       "       1, 1, 1, 1, 2, 1, 1, 1, 1, 1, 1, 2, 1, 1, 1, 1, 1, 2, 1, 1, 1, 1,\n",
       "       1, 1, 1, 1, 1, 1, 1, 1, 1, 1, 1, 1, 2, 2, 2, 2, 2, 2, 1, 2, 2, 2,\n",
       "       2, 2, 2, 2, 2, 2, 2, 2, 2, 2, 2, 2, 2, 2, 2, 2, 2, 2, 2, 2, 2, 2,\n",
       "       2, 2, 2, 2, 2, 2, 2, 2, 2, 2, 2, 2, 2, 2, 2, 2, 2, 2])"
      ]
     },
     "execution_count": 12,
     "metadata": {},
     "output_type": "execute_result"
    }
   ],
   "source": [
    "y_pred = clf.predict(X)\n",
    "y_pred"
   ]
  }
 ],
 "metadata": {
  "kernelspec": {
   "display_name": "Python 3 (ipykernel)",
   "language": "python",
   "name": "python3"
  },
  "language_info": {
   "codemirror_mode": {
    "name": "ipython",
    "version": 3
   },
   "file_extension": ".py",
   "mimetype": "text/x-python",
   "name": "python",
   "nbconvert_exporter": "python",
   "pygments_lexer": "ipython3",
   "version": "3.8.10"
  }
 },
 "nbformat": 4,
 "nbformat_minor": 5
}
