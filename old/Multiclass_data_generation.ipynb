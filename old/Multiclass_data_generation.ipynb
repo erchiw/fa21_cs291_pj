{
 "cells": [
  {
   "cell_type": "code",
   "execution_count": 52,
   "id": "373e5329",
   "metadata": {},
   "outputs": [
    {
     "name": "stdout",
     "output_type": "stream",
     "text": [
      "The autoreload extension is already loaded. To reload it, use:\n",
      "  %reload_ext autoreload\n"
     ]
    }
   ],
   "source": [
    "%load_ext autoreload\n",
    "%autoreload 2\n",
    "\n",
    "import pandas as pd\n",
    "import numpy as np\n",
    "\n",
    "import matplotlib.pyplot as plt\n",
    "import seaborn as sns\n",
    "\n",
    "from sklearn.metrics import roc_auc_score, roc_curve, classification_report\n",
    "from sklearn.linear_model import LogisticRegression\n",
    "\n",
    "from utils import * ### need utils.py in the same folder as this notebook\n",
    "\n",
    "idx = pd.IndexSlice\n",
    "pd.set_option('max.rows', 100)\n",
    "pd.set_option('max.columns', 300)\n",
    "pd.set_option('mode.chained_assignment', 'raise')\n",
    "pd.set_option('display.float_format', lambda x: '%.4f' % x) #supress scientific notation"
   ]
  },
  {
   "cell_type": "markdown",
   "id": "dc3d3af4",
   "metadata": {},
   "source": [
    "# 0. self-defined utils"
   ]
  },
  {
   "cell_type": "code",
   "execution_count": 75,
   "id": "3fd7bc0d",
   "metadata": {},
   "outputs": [],
   "source": [
    "### keep both training labels and ILI_type for y\n",
    "def get_ili_type(df, keep_filter, label_col = ('labels', 'ILI_type')):\n",
    "    ## get ILI training label and ILI type for y\n",
    "    y = df.loc[keep_filter ,label_col]\n",
    " \n",
    "    return y\n",
    "\n",
    "### impute na by 0\n",
    "### not ideal but should work for a start\n",
    "def impute_na(df):\n",
    "    return df.fillna(0)"
   ]
  },
  {
   "cell_type": "markdown",
   "id": "fe3abc2e",
   "metadata": {},
   "source": [
    "# 1. Generating whole data set"
   ]
  },
  {
   "cell_type": "code",
   "execution_count": 49,
   "id": "1fa033d8",
   "metadata": {},
   "outputs": [
    {
     "name": "stdout",
     "output_type": "stream",
     "text": [
      "(71810, 24)\n",
      "N = 1670\n"
     ]
    },
    {
     "data": {
      "text/plain": [
       "count                            71810\n",
       "mean     2020-04-08 00:25:00.359281152\n",
       "min                2020-01-04 00:00:00\n",
       "25%                2020-03-01 00:00:00\n",
       "50%                2020-04-08 00:00:00\n",
       "75%                2020-05-16 00:00:00\n",
       "max                2020-07-11 00:00:00\n",
       "Name: dt, dtype: object"
      ]
     },
     "execution_count": 49,
     "metadata": {},
     "output_type": "execute_result"
    }
   ],
   "source": [
    "rnd = np.random.RandomState(1729)\n",
    "max_num = 10000000\n",
    "\n",
    "### Determine #samples in train, val, and test \n",
    "###(a,b): a - disease type(1-ili, 2-flu, 3-covid), b - #samples\n",
    "dict_split = {'train': [(1, 150), (2, 150), (3, 150)], # ili:flu:covid=1\n",
    "             'val': [(1, 30), (2, 30), (3, 30)],       # ili:flu:covid=1\n",
    "             'test': [(1, 1000), (2, 100), (3, 30)]    # ili:flu:covid=100:10:3\n",
    "             }\n",
    "\n",
    "### generating data based on dict_split\n",
    "df_activity = pd.concat([generate_normalized_hr_sample(i, split, ili) for split,v in dict_split.items() \n",
    "                         for ili,n in v \n",
    "                         for i in rnd.choice(np.arange(1,max_num), n)\n",
    "                        ])\n",
    "\n",
    "### summarize generated data\n",
    "print(df_activity.shape)\n",
    "print('N =', count_unique_index(df_activity))\n",
    "assert count_unique_index(df_activity) == df_activity.shape[0]/43\n",
    "describe_datetimeindex(df_activity)"
   ]
  },
  {
   "cell_type": "code",
   "execution_count": 50,
   "id": "59b6016d",
   "metadata": {},
   "outputs": [
    {
     "data": {
      "text/html": [
       "<div>\n",
       "<style scoped>\n",
       "    .dataframe tbody tr th:only-of-type {\n",
       "        vertical-align: middle;\n",
       "    }\n",
       "\n",
       "    .dataframe tbody tr th {\n",
       "        vertical-align: top;\n",
       "    }\n",
       "\n",
       "    .dataframe thead th {\n",
       "        text-align: right;\n",
       "    }\n",
       "</style>\n",
       "<table border=\"1\" class=\"dataframe\">\n",
       "  <thead>\n",
       "    <tr style=\"text-align: right;\">\n",
       "      <th></th>\n",
       "      <th>(labels, split)</th>\n",
       "      <th>count</th>\n",
       "      <th>percent</th>\n",
       "    </tr>\n",
       "  </thead>\n",
       "  <tbody>\n",
       "    <tr>\n",
       "      <th>0</th>\n",
       "      <td>test</td>\n",
       "      <td>48590</td>\n",
       "      <td>67.6600</td>\n",
       "    </tr>\n",
       "    <tr>\n",
       "      <th>1</th>\n",
       "      <td>train</td>\n",
       "      <td>19350</td>\n",
       "      <td>26.9500</td>\n",
       "    </tr>\n",
       "    <tr>\n",
       "      <th>2</th>\n",
       "      <td>val</td>\n",
       "      <td>3870</td>\n",
       "      <td>5.3900</td>\n",
       "    </tr>\n",
       "    <tr>\n",
       "      <th>3</th>\n",
       "      <td>Total</td>\n",
       "      <td>71810</td>\n",
       "      <td>100.0000</td>\n",
       "    </tr>\n",
       "  </tbody>\n",
       "</table>\n",
       "</div>"
      ],
      "text/plain": [
       "  (labels, split)  count  percent\n",
       "0            test  48590  67.6600\n",
       "1           train  19350  26.9500\n",
       "2             val   3870   5.3900\n",
       "3           Total  71810 100.0000"
      ]
     },
     "execution_count": 50,
     "metadata": {},
     "output_type": "execute_result"
    }
   ],
   "source": [
    "### summary test:train:val\n",
    "import warnings\n",
    "warnings.simplefilter(action='ignore', category=pd.errors.PerformanceWarning)\n",
    "prop_table(df_activity['labels', 'split'])"
   ]
  },
  {
   "cell_type": "markdown",
   "id": "ecc7b560",
   "metadata": {},
   "source": [
    "## 1.1 Generating training and val set\n",
    "* in training and val, we only work on health/ill days, i.e. days with training label {0,1}\n",
    "* so total 21 days per id\n",
    "* finally {X_train/val, y_train/val_label}"
   ]
  },
  {
   "cell_type": "code",
   "execution_count": 64,
   "id": "bd8c10fe",
   "metadata": {},
   "outputs": [
    {
     "name": "stdout",
     "output_type": "stream",
     "text": [
      "(9450, 20) (9450,)\n",
      "Missing rows percent = 13.38%\n",
      "  (labels, training_labels)  count  percent\n",
      "0                         0   6300  66.6700\n",
      "1                         1   3150  33.3300\n",
      "2                     Total   9450 100.0000\n",
      "(1890, 20) (1890,)\n",
      "Missing rows percent = 12.86%\n",
      "  (labels, training_labels)  count  percent\n",
      "0                         0   1260  66.6700\n",
      "1                         1    630  33.3300\n",
      "2                     Total   1890 100.0000\n"
     ]
    }
   ],
   "source": [
    "### generating training\n",
    "label_col = ('labels', 'training_labels') ###  training_labels {-1,0,1}, for all train,test,val\n",
    "split_col = ('labels', 'split')           ### train/test/val\n",
    "type_col = ('labels', 'ILI_type')       \n",
    "\n",
    "days_ago = ['0days_ago', '1days_ago', '2days_ago', '3days_ago', '4days_ago']\n",
    "feature_cols = ['heart_rate__not_moving__max', \n",
    "                'heart_rate__resting_heart_rate',\n",
    "                'heart_rate__stddev',\n",
    "                'heart_rate__perc_50th']\n",
    "\n",
    "keep_train = (df_activity[label_col].isin([0,1])  #trim buffer days (which has label -1)\n",
    "                & (df_activity[split_col] == 'train')\n",
    "                & (df_activity[type_col].isin([1,2,3]))\n",
    "              )\n",
    "\n",
    "X_train, y_train, filter_train = get_dataset(df_activity, keep_train, days_ago, feature_cols, label_col)\n",
    "\n",
    "y_train_type = get_ili_type(df_activity, keep_train) \n",
    "\n",
    "## y_train only contains {0:healthy, 1:ill}, not adequate for multiclass setting\n",
    "## y_train_type contains {1:ili, 2:fli, 3:covid}\n",
    "## y_train_label = y_train*y_train_type\n",
    "y_train_label = y_train*y_train_type\n",
    "\n",
    "\n",
    "### generating val\n",
    "keep_val = (df_activity[label_col].isin([0,1]) \n",
    "            & (df_activity[split_col] == 'val')\n",
    "             )\n",
    "\n",
    "X_val, y_val, filter_val = get_dataset(df_activity, keep_val, days_ago, feature_cols, label_col)\n",
    "\n",
    "y_val_type  = get_ili_type(df_activity, keep_val)\n",
    "\n",
    "## same tweak for y_val\n",
    "y_val_label = y_val*y_val_type"
   ]
  },
  {
   "cell_type": "markdown",
   "id": "946880f3",
   "metadata": {},
   "source": [
    "## 1.2 Generating test set\n",
    "* same as the repo, in test set we keep all days, i.e. days with training label {-1,0,1}\n",
    "* so total 43 days per id\n",
    "* finally {X_test, y_test_label}"
   ]
  },
  {
   "cell_type": "code",
   "execution_count": 67,
   "id": "6dd1ef72",
   "metadata": {},
   "outputs": [
    {
     "name": "stdout",
     "output_type": "stream",
     "text": [
      "(48590, 20) (48590,)\n",
      "Missing rows percent = 13.22%\n",
      "  (labels, training_labels)  count  percent\n",
      "0                        -1  24860  51.1600\n",
      "1                         0  15820  32.5600\n",
      "2                         1   7910  16.2800\n",
      "3                     Total  48590 100.0000\n"
     ]
    }
   ],
   "source": [
    "keep_test = (df_activity[split_col] == 'test')\n",
    "X_test, y_test, filter_test = get_dataset(df_activity, keep_test, days_ago, feature_cols, label_col)\n",
    "y_test_type = get_ili_type(df_activity, keep_test)\n",
    "y_test_label = y_test_type*y_test"
   ]
  },
  {
   "cell_type": "markdown",
   "id": "3a0ce6cc",
   "metadata": {},
   "source": [
    "# 2. Imputation of NA values\n",
    "* na value only in X, either train/val/test\n",
    "* use impute_na() in section 0"
   ]
  },
  {
   "cell_type": "code",
   "execution_count": null,
   "id": "5c9d823b",
   "metadata": {},
   "outputs": [],
   "source": []
  }
 ],
 "metadata": {
  "kernelspec": {
   "display_name": "Python 3 (ipykernel)",
   "language": "python",
   "name": "python3"
  },
  "language_info": {
   "codemirror_mode": {
    "name": "ipython",
    "version": 3
   },
   "file_extension": ".py",
   "mimetype": "text/x-python",
   "name": "python",
   "nbconvert_exporter": "python",
   "pygments_lexer": "ipython3",
   "version": "3.8.10"
  }
 },
 "nbformat": 4,
 "nbformat_minor": 5
}
